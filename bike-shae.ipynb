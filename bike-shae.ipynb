{
 "metadata": {
  "language_info": {
   "codemirror_mode": {
    "name": "ipython",
    "version": 3
   },
   "file_extension": ".py",
   "mimetype": "text/x-python",
   "name": "python",
   "nbconvert_exporter": "python",
   "pygments_lexer": "ipython3",
   "version": "3.7.9-final"
  },
  "orig_nbformat": 2,
  "kernelspec": {
   "name": "Python 3.7.9 64-bit ('devintrods': conda)",
   "display_name": "Python 3.7.9 64-bit ('devintrods': conda)",
   "metadata": {
    "interpreter": {
     "hash": "f823b6ac50069401d7b9ec1bdc5ae3bebbed8c7402572602c6ecc7be62c97c7a"
    }
   }
  }
 },
 "nbformat": 4,
 "nbformat_minor": 2,
 "cells": [
  {
   "cell_type": "code",
   "execution_count": 1,
   "metadata": {
    "tags": []
   },
   "outputs": [
    {
     "output_type": "stream",
     "name": "stdout",
     "text": "AzureML SDK: 1.15.0\n"
    }
   ],
   "source": [
    "import azureml.core\n",
    "import pandas as pandas\n",
    "import numpy as np \n",
    "import logging\n",
    "\n",
    "print(\"AzureML SDK:\", azureml.core.VERSION)"
   ]
  },
  {
   "cell_type": "code",
   "execution_count": 2,
   "metadata": {
    "tags": []
   },
   "outputs": [],
   "source": [
    "from azureml.core import Workspace, Experiment\n",
    "\n",
    "ws = Workspace.from_config()\n",
    "\n",
    "experiment_name = \"automl_bikeshare_forecast\"\n",
    "\n",
    "experimwnt = Experiment(ws, experiment_name)"
   ]
  },
  {
   "cell_type": "code",
   "execution_count": 3,
   "metadata": {
    "tags": []
   },
   "outputs": [
    {
     "output_type": "stream",
     "name": "stdout",
     "text": "Succeeded\nAmlCompute wait for completion finished\n\nMinimum number of nodes requested have been provisioned\n"
    }
   ],
   "source": [
    "from azureml.core.compute import AmlCompute\n",
    "from azureml.core.compute import ComputeTarget\n",
    "\n",
    "amlcompute_cluster_name = \"cpu-cluster\"\n",
    "\n",
    "provisioning_config = AmlCompute.provisioning_configuration(vm_size=\"STANDARD_D2_V2\",max_nodes=4)\n",
    "\n",
    "compute_target = ComputeTarget.create(ws, amlcompute_cluster_name, provisioning_config)\n",
    "\n",
    "compute_target.wait_for_completion(show_output=True,min_node_count=None, timeout_in_minutes=20)\n"
   ]
  },
  {
   "cell_type": "code",
   "execution_count": null,
   "metadata": {},
   "outputs": [],
   "source": []
  }
 ]
}