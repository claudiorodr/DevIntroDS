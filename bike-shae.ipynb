{
 "metadata": {
  "language_info": {
   "codemirror_mode": {
    "name": "ipython",
    "version": 3
   },
   "file_extension": ".py",
   "mimetype": "text/x-python",
   "name": "python",
   "nbconvert_exporter": "python",
   "pygments_lexer": "ipython3",
   "version": "3.7.9-final"
  },
  "orig_nbformat": 2,
  "kernelspec": {
   "name": "Python 3.7.9 64-bit ('devintrods': conda)",
   "display_name": "Python 3.7.9 64-bit ('devintrods': conda)",
   "metadata": {
    "interpreter": {
     "hash": "f823b6ac50069401d7b9ec1bdc5ae3bebbed8c7402572602c6ecc7be62c97c7a"
    }
   }
  }
 },
 "nbformat": 4,
 "nbformat_minor": 2,
 "cells": [
  {
   "cell_type": "code",
   "execution_count": 1,
   "metadata": {
    "tags": []
   },
   "outputs": [
    {
     "output_type": "stream",
     "name": "stdout",
     "text": "AzureML SDK: 1.15.0\n"
    }
   ],
   "source": [
    "import azureml.core\n",
    "import pandas as pandas\n",
    "import numpy as np \n",
    "import logging\n",
    "\n",
    "print(\"AzureML SDK:\", azureml.core.VERSION)"
   ]
  },
  {
   "cell_type": "code",
   "execution_count": 2,
   "metadata": {
    "tags": []
   },
   "outputs": [],
   "source": [
    "from azureml.core import Workspace, Experiment\n",
    "\n",
    "ws = Workspace.from_config()\n",
    "\n",
    "experiment_name = \"automl_bikeshare_forecast\"\n",
    "\n",
    "experiment = Experiment(ws, experiment_name)"
   ]
  },
  {
   "cell_type": "code",
   "execution_count": 3,
   "metadata": {
    "tags": []
   },
   "outputs": [
    {
     "output_type": "stream",
     "name": "stdout",
     "text": "Succeeded\nAmlCompute wait for completion finished\n\nMinimum number of nodes requested have been provisioned\n"
    }
   ],
   "source": [
    "from azureml.core.compute import AmlCompute\n",
    "from azureml.core.compute import ComputeTarget\n",
    "\n",
    "amlcompute_cluster_name = \"cpu-cluster\"\n",
    "\n",
    "provisioning_config = AmlCompute.provisioning_configuration(vm_size=\"STANDARD_D2_V2\",max_nodes=4)\n",
    "\n",
    "compute_target = ComputeTarget.create(ws, amlcompute_cluster_name, provisioning_config)\n",
    "\n",
    "compute_target.wait_for_completion(show_output=True,min_node_count=None, timeout_in_minutes=20)\n"
   ]
  },
  {
   "cell_type": "code",
   "execution_count": 4,
   "metadata": {
    "tags": []
   },
   "outputs": [
    {
     "output_type": "stream",
     "name": "stdout",
     "text": "Uploading an estimated of 1 files\nUploading bike-no.csv\nUploaded bike-no.csv, 1 files out of an estimated total of 1\nUploaded 1 files\n"
    },
    {
     "output_type": "execute_result",
     "data": {
      "text/plain": "$AZUREML_DATAREFERENCE_5ce67d91945c46349a2210cc8f5b16b4"
     },
     "metadata": {},
     "execution_count": 4
    }
   ],
   "source": [
    "datastore = ws.get_default_datastore()\n",
    "datastore.upload_files(files=['bike-no.csv'],target_path='dataset/',overwrite=True,show_progress=True)"
   ]
  },
  {
   "cell_type": "code",
   "execution_count": 5,
   "metadata": {},
   "outputs": [
    {
     "output_type": "execute_result",
     "data": {
      "text/plain": "   instant       date  season  yr  mnth  weekday  weathersit      temp  \\\n0        1 2011-01-01       1   0     1        6           2  0.344167   \n1        2 2011-01-02       1   0     1        0           2  0.363478   \n2        3 2011-01-03       1   0     1        1           1  0.196364   \n3        4 2011-01-04       1   0     1        2           1  0.200000   \n4        5 2011-01-05       1   0     1        3           1  0.226957   \n\n      atemp       hum  windspeed  casual  registered   cnt  \n0  0.363625  0.805833   0.160446     331         654   985  \n1  0.353739  0.696087   0.248539     131         670   801  \n2  0.189405  0.437273   0.248309     120        1229  1349  \n3  0.212122  0.590435   0.160296     108        1454  1562  \n4  0.229270  0.436957   0.186900      82        1518  1600  ",
      "text/html": "<div>\n<style scoped>\n    .dataframe tbody tr th:only-of-type {\n        vertical-align: middle;\n    }\n\n    .dataframe tbody tr th {\n        vertical-align: top;\n    }\n\n    .dataframe thead th {\n        text-align: right;\n    }\n</style>\n<table border=\"1\" class=\"dataframe\">\n  <thead>\n    <tr style=\"text-align: right;\">\n      <th></th>\n      <th>instant</th>\n      <th>date</th>\n      <th>season</th>\n      <th>yr</th>\n      <th>mnth</th>\n      <th>weekday</th>\n      <th>weathersit</th>\n      <th>temp</th>\n      <th>atemp</th>\n      <th>hum</th>\n      <th>windspeed</th>\n      <th>casual</th>\n      <th>registered</th>\n      <th>cnt</th>\n    </tr>\n  </thead>\n  <tbody>\n    <tr>\n      <th>0</th>\n      <td>1</td>\n      <td>2011-01-01</td>\n      <td>1</td>\n      <td>0</td>\n      <td>1</td>\n      <td>6</td>\n      <td>2</td>\n      <td>0.344167</td>\n      <td>0.363625</td>\n      <td>0.805833</td>\n      <td>0.160446</td>\n      <td>331</td>\n      <td>654</td>\n      <td>985</td>\n    </tr>\n    <tr>\n      <th>1</th>\n      <td>2</td>\n      <td>2011-01-02</td>\n      <td>1</td>\n      <td>0</td>\n      <td>1</td>\n      <td>0</td>\n      <td>2</td>\n      <td>0.363478</td>\n      <td>0.353739</td>\n      <td>0.696087</td>\n      <td>0.248539</td>\n      <td>131</td>\n      <td>670</td>\n      <td>801</td>\n    </tr>\n    <tr>\n      <th>2</th>\n      <td>3</td>\n      <td>2011-01-03</td>\n      <td>1</td>\n      <td>0</td>\n      <td>1</td>\n      <td>1</td>\n      <td>1</td>\n      <td>0.196364</td>\n      <td>0.189405</td>\n      <td>0.437273</td>\n      <td>0.248309</td>\n      <td>120</td>\n      <td>1229</td>\n      <td>1349</td>\n    </tr>\n    <tr>\n      <th>3</th>\n      <td>4</td>\n      <td>2011-01-04</td>\n      <td>1</td>\n      <td>0</td>\n      <td>1</td>\n      <td>2</td>\n      <td>1</td>\n      <td>0.200000</td>\n      <td>0.212122</td>\n      <td>0.590435</td>\n      <td>0.160296</td>\n      <td>108</td>\n      <td>1454</td>\n      <td>1562</td>\n    </tr>\n    <tr>\n      <th>4</th>\n      <td>5</td>\n      <td>2011-01-05</td>\n      <td>1</td>\n      <td>0</td>\n      <td>1</td>\n      <td>3</td>\n      <td>1</td>\n      <td>0.226957</td>\n      <td>0.229270</td>\n      <td>0.436957</td>\n      <td>0.186900</td>\n      <td>82</td>\n      <td>1518</td>\n      <td>1600</td>\n    </tr>\n  </tbody>\n</table>\n</div>"
     },
     "metadata": {},
     "execution_count": 5
    }
   ],
   "source": [
    "from azureml.core import Dataset\n",
    "from datetime import datetime\n",
    "\n",
    "time_column_name = 'date'\n",
    "target_column_name = 'cnt'\n",
    "# dataset = Dataset.Tabular.from_delimited_files(path=[(datastore, 'dataset/bike-no.csv')]).with_timestamp_columns(fine_grain_timestamp=time_column_name)\n",
    "# dataset.take(5).to_pandas_dataframe().reset_index(drop=True)\n",
    "\n",
    "dataset = Dataset.Tabular.from_delimited_files(path=[(datastore,'dataset/bike-no.csv')]).with_timestamp_columns(fine_grain_timestamp=time_column_name)\n",
    "dataset.take(5).to_pandas_dataframe().reset_index(drop=True)"
   ]
  },
  {
   "cell_type": "code",
   "execution_count": 6,
   "metadata": {},
   "outputs": [
    {
     "output_type": "execute_result",
     "data": {
      "text/plain": "   instant       date  season  yr  mnth  weekday  weathersit      temp  \\\n0      605 2012-08-27       3   1     8        1           1  0.703333   \n1      606 2012-08-28       3   1     8        2           1  0.728333   \n2      607 2012-08-29       3   1     8        3           1  0.685000   \n3      608 2012-08-30       3   1     8        4           1  0.706667   \n4      609 2012-08-31       3   1     8        5           1  0.764167   \n\n      atemp       hum  windspeed  casual  registered   cnt  \n0  0.654688  0.730417   0.128733     989        5928  6917  \n1  0.666050  0.620000   0.190925     935        6105  7040  \n2  0.635733  0.552083   0.112562    1177        6520  7697  \n3  0.652779  0.590417   0.077117    1172        6541  7713  \n4  0.689400  0.587500   0.168533    1433        5917  7350  ",
      "text/html": "<div>\n<style scoped>\n    .dataframe tbody tr th:only-of-type {\n        vertical-align: middle;\n    }\n\n    .dataframe tbody tr th {\n        vertical-align: top;\n    }\n\n    .dataframe thead th {\n        text-align: right;\n    }\n</style>\n<table border=\"1\" class=\"dataframe\">\n  <thead>\n    <tr style=\"text-align: right;\">\n      <th></th>\n      <th>instant</th>\n      <th>date</th>\n      <th>season</th>\n      <th>yr</th>\n      <th>mnth</th>\n      <th>weekday</th>\n      <th>weathersit</th>\n      <th>temp</th>\n      <th>atemp</th>\n      <th>hum</th>\n      <th>windspeed</th>\n      <th>casual</th>\n      <th>registered</th>\n      <th>cnt</th>\n    </tr>\n  </thead>\n  <tbody>\n    <tr>\n      <th>0</th>\n      <td>605</td>\n      <td>2012-08-27</td>\n      <td>3</td>\n      <td>1</td>\n      <td>8</td>\n      <td>1</td>\n      <td>1</td>\n      <td>0.703333</td>\n      <td>0.654688</td>\n      <td>0.730417</td>\n      <td>0.128733</td>\n      <td>989</td>\n      <td>5928</td>\n      <td>6917</td>\n    </tr>\n    <tr>\n      <th>1</th>\n      <td>606</td>\n      <td>2012-08-28</td>\n      <td>3</td>\n      <td>1</td>\n      <td>8</td>\n      <td>2</td>\n      <td>1</td>\n      <td>0.728333</td>\n      <td>0.666050</td>\n      <td>0.620000</td>\n      <td>0.190925</td>\n      <td>935</td>\n      <td>6105</td>\n      <td>7040</td>\n    </tr>\n    <tr>\n      <th>2</th>\n      <td>607</td>\n      <td>2012-08-29</td>\n      <td>3</td>\n      <td>1</td>\n      <td>8</td>\n      <td>3</td>\n      <td>1</td>\n      <td>0.685000</td>\n      <td>0.635733</td>\n      <td>0.552083</td>\n      <td>0.112562</td>\n      <td>1177</td>\n      <td>6520</td>\n      <td>7697</td>\n    </tr>\n    <tr>\n      <th>3</th>\n      <td>608</td>\n      <td>2012-08-30</td>\n      <td>3</td>\n      <td>1</td>\n      <td>8</td>\n      <td>4</td>\n      <td>1</td>\n      <td>0.706667</td>\n      <td>0.652779</td>\n      <td>0.590417</td>\n      <td>0.077117</td>\n      <td>1172</td>\n      <td>6541</td>\n      <td>7713</td>\n    </tr>\n    <tr>\n      <th>4</th>\n      <td>609</td>\n      <td>2012-08-31</td>\n      <td>3</td>\n      <td>1</td>\n      <td>8</td>\n      <td>5</td>\n      <td>1</td>\n      <td>0.764167</td>\n      <td>0.689400</td>\n      <td>0.587500</td>\n      <td>0.168533</td>\n      <td>1433</td>\n      <td>5917</td>\n      <td>7350</td>\n    </tr>\n  </tbody>\n</table>\n</div>"
     },
     "metadata": {},
     "execution_count": 6
    }
   ],
   "source": [
    "train = dataset.time_before(datetime(2012,8,31),include_boundary=True)\n",
    "train.to_pandas_dataframe().tail(5).reset_index(drop=True)"
   ]
  },
  {
   "cell_type": "code",
   "execution_count": 7,
   "metadata": {},
   "outputs": [
    {
     "output_type": "execute_result",
     "data": {
      "text/plain": "   instant       date  season  yr  mnth  weekday  weathersit      temp  \\\n0      610 2012-09-01       3   1     9        6           2  0.753333   \n1      611 2012-09-02       3   1     9        0           2  0.696667   \n2      612 2012-09-03       3   1     9        1           1  0.707500   \n3      613 2012-09-04       3   1     9        2           1  0.725833   \n4      614 2012-09-05       3   1     9        3           1  0.736667   \n\n      atemp       hum  windspeed  casual  registered   cnt  \n0  0.702654  0.638333   0.113187    2352        3788  6140  \n1  0.649000  0.815000   0.064071    2613        3197  5810  \n2  0.661629  0.790833   0.151121    1965        4069  6034  \n3  0.686888  0.755000   0.236321     867        5997  6864  \n4  0.708983  0.741250   0.187808     832        6280  7112  ",
      "text/html": "<div>\n<style scoped>\n    .dataframe tbody tr th:only-of-type {\n        vertical-align: middle;\n    }\n\n    .dataframe tbody tr th {\n        vertical-align: top;\n    }\n\n    .dataframe thead th {\n        text-align: right;\n    }\n</style>\n<table border=\"1\" class=\"dataframe\">\n  <thead>\n    <tr style=\"text-align: right;\">\n      <th></th>\n      <th>instant</th>\n      <th>date</th>\n      <th>season</th>\n      <th>yr</th>\n      <th>mnth</th>\n      <th>weekday</th>\n      <th>weathersit</th>\n      <th>temp</th>\n      <th>atemp</th>\n      <th>hum</th>\n      <th>windspeed</th>\n      <th>casual</th>\n      <th>registered</th>\n      <th>cnt</th>\n    </tr>\n  </thead>\n  <tbody>\n    <tr>\n      <th>0</th>\n      <td>610</td>\n      <td>2012-09-01</td>\n      <td>3</td>\n      <td>1</td>\n      <td>9</td>\n      <td>6</td>\n      <td>2</td>\n      <td>0.753333</td>\n      <td>0.702654</td>\n      <td>0.638333</td>\n      <td>0.113187</td>\n      <td>2352</td>\n      <td>3788</td>\n      <td>6140</td>\n    </tr>\n    <tr>\n      <th>1</th>\n      <td>611</td>\n      <td>2012-09-02</td>\n      <td>3</td>\n      <td>1</td>\n      <td>9</td>\n      <td>0</td>\n      <td>2</td>\n      <td>0.696667</td>\n      <td>0.649000</td>\n      <td>0.815000</td>\n      <td>0.064071</td>\n      <td>2613</td>\n      <td>3197</td>\n      <td>5810</td>\n    </tr>\n    <tr>\n      <th>2</th>\n      <td>612</td>\n      <td>2012-09-03</td>\n      <td>3</td>\n      <td>1</td>\n      <td>9</td>\n      <td>1</td>\n      <td>1</td>\n      <td>0.707500</td>\n      <td>0.661629</td>\n      <td>0.790833</td>\n      <td>0.151121</td>\n      <td>1965</td>\n      <td>4069</td>\n      <td>6034</td>\n    </tr>\n    <tr>\n      <th>3</th>\n      <td>613</td>\n      <td>2012-09-04</td>\n      <td>3</td>\n      <td>1</td>\n      <td>9</td>\n      <td>2</td>\n      <td>1</td>\n      <td>0.725833</td>\n      <td>0.686888</td>\n      <td>0.755000</td>\n      <td>0.236321</td>\n      <td>867</td>\n      <td>5997</td>\n      <td>6864</td>\n    </tr>\n    <tr>\n      <th>4</th>\n      <td>614</td>\n      <td>2012-09-05</td>\n      <td>3</td>\n      <td>1</td>\n      <td>9</td>\n      <td>3</td>\n      <td>1</td>\n      <td>0.736667</td>\n      <td>0.708983</td>\n      <td>0.741250</td>\n      <td>0.187808</td>\n      <td>832</td>\n      <td>6280</td>\n      <td>7112</td>\n    </tr>\n  </tbody>\n</table>\n</div>"
     },
     "metadata": {},
     "execution_count": 7
    }
   ],
   "source": [
    "test = dataset.time_after(datetime(2012,9,1),include_boundary=True)\n",
    "test.to_pandas_dataframe().head(5).reset_index(drop=True)"
   ]
  },
  {
   "cell_type": "code",
   "execution_count": 8,
   "metadata": {
    "tags": []
   },
   "outputs": [],
   "source": [
    "from azureml.train.automl import AutoMLConfig\n",
    "\n",
    "time_series_settings={\n",
    "    'time_column_name' : time_column_name,\n",
    "    'max_horizon' : 14,\n",
    "    # 'coutry_or_region' : 'US',\n",
    "    'target_lags' : 'auto',\n",
    "    'drop_column_names' : ['casual','registered']\n",
    "}\n",
    "\n",
    "automl_config = AutoMLConfig(\n",
    "    task='forecasting',\n",
    "    blocked_models=['ExtremeRandomTree'],\n",
    "    experiment_timeout_minutes=30,\n",
    "    training_data=train,\n",
    "    label_column_name=target_column_name,\n",
    "    compute_target=compute_target,\n",
    "    enable_early_stopping=True,\n",
    "    n_cross_validations=3,\n",
    "    max_concurrent_iterations=4,\n",
    "    max_cores_per_iteration=-1,\n",
    "    verbosity=logging.INFO,\n",
    "    **time_series_settings\n",
    ")"
   ]
  },
  {
   "cell_type": "code",
   "execution_count": 9,
   "metadata": {
    "tags": []
   },
   "outputs": [
    {
     "output_type": "stream",
     "name": "stdout",
     "text": "Running on remote.\n"
    },
    {
     "output_type": "error",
     "ename": "Exception",
     "evalue": "Error retrieving the environment definition. Code: 404\n: {\n  &quot;error&quot;: {\n    &quot;code&quot;: &quot;UserError&quot;,\n    &quot;severity&quot;: null,\n    &quot;message&quot;: &quot;No definitions exist for environment AutoML-Non-Prod&quot;,\n    &quot;messageFormat&quot;: null,\n    &quot;messageParameters&quot;: null,\n    &quot;referenceCode&quot;: null,\n    &quot;detailsUri&quot;: null,\n    &quot;target&quot;: null,\n    &quot;details&quot;: [],\n    &quot;innerError&quot;: {\n      &quot;code&quot;: &quot;NotFoundError&quot;,\n      &quot;innerError&quot;: null\n    },\n    &quot;debugInfo&quot;: null\n  },\n  &quot;correlation&quot;: {\n    &quot;operation&quot;: &quot;48d1d4dcd67583419722c015f0288174&quot;,\n    &quot;request&quot;: &quot;3666508cd297504c&quot;\n  },\n  &quot;environment&quot;: &quot;eastus&quot;,\n  &quot;location&quot;: &quot;eastus&quot;,\n  &quot;time&quot;: &quot;2020-10-01T15:36:58.9859011+00:00&quot;,\n  &quot;componentName&quot;: &quot;environment-management&quot;\n}",
     "traceback": [
      "\u001b[1;31m---------------------------------------------------------------------------\u001b[0m",
      "\u001b[1;31mException\u001b[0m                                 Traceback (most recent call last)",
      "\u001b[1;32m&lt;ipython-input-9-da2455d30311&gt;\u001b[0m in \u001b[0;36m&lt;module&gt;\u001b[1;34m\u001b[0m\n\u001b[1;32m----&gt; 1\u001b[1;33m \u001b[0mremote_run\u001b[0m \u001b[1;33m=\u001b[0m \u001b[0mexperiment\u001b[0m\u001b[1;33m.\u001b[0m\u001b[0msubmit\u001b[0m\u001b[1;33m(\u001b[0m\u001b[0mautoml_config\u001b[0m\u001b[1;33m,\u001b[0m\u001b[0mshow_output\u001b[0m\u001b[1;33m=\u001b[0m\u001b[1;32mFalse\u001b[0m\u001b[1;33m)\u001b[0m\u001b[1;33m\u001b[0m\u001b[1;33m\u001b[0m\u001b[0m\n\u001b[0m",
      "\u001b[1;32m~\\.conda\\envs\\devintrods\\lib\\site-packages\\azureml\\core\\experiment.py\u001b[0m in \u001b[0;36msubmit\u001b[1;34m(self, config, tags, **kwargs)\u001b[0m\n\u001b[0;32m    217\u001b[0m         \u001b[0msubmit_func\u001b[0m \u001b[1;33m=\u001b[0m \u001b[0mget_experiment_submit\u001b[0m\u001b[1;33m(\u001b[0m\u001b[0mconfig\u001b[0m\u001b[1;33m)\u001b[0m\u001b[1;33m\u001b[0m\u001b[1;33m\u001b[0m\u001b[0m\n\u001b[0;32m    218\u001b[0m         \u001b[1;32mwith\u001b[0m \u001b[0mself\u001b[0m\u001b[1;33m.\u001b[0m\u001b[0m_log_context\u001b[0m\u001b[1;33m(\u001b[0m\u001b[1;34m&quot;submit config {}&quot;\u001b[0m\u001b[1;33m.\u001b[0m\u001b[0mformat\u001b[0m\u001b[1;33m(\u001b[0m\u001b[0mconfig\u001b[0m\u001b[1;33m.\u001b[0m\u001b[0m__class__\u001b[0m\u001b[1;33m.\u001b[0m\u001b[0m__name__\u001b[0m\u001b[1;33m)\u001b[0m\u001b[1;33m)\u001b[0m\u001b[1;33m:\u001b[0m\u001b[1;33m\u001b[0m\u001b[1;33m\u001b[0m\u001b[0m\n\u001b[1;32m--&gt; 219\u001b[1;33m             \u001b[0mrun\u001b[0m \u001b[1;33m=\u001b[0m \u001b[0msubmit_func\u001b[0m\u001b[1;33m(\u001b[0m\u001b[0mconfig\u001b[0m\u001b[1;33m,\u001b[0m \u001b[0mself\u001b[0m\u001b[1;33m.\u001b[0m\u001b[0mworkspace\u001b[0m\u001b[1;33m,\u001b[0m \u001b[0mself\u001b[0m\u001b[1;33m.\u001b[0m\u001b[0mname\u001b[0m\u001b[1;33m,\u001b[0m \u001b[1;33m**\u001b[0m\u001b[0mkwargs\u001b[0m\u001b[1;33m)\u001b[0m\u001b[1;33m\u001b[0m\u001b[1;33m\u001b[0m\u001b[0m\n\u001b[0m\u001b[0;32m    220\u001b[0m         \u001b[1;32mif\u001b[0m \u001b[0mtags\u001b[0m \u001b[1;32mis\u001b[0m \u001b[1;32mnot\u001b[0m \u001b[1;32mNone\u001b[0m\u001b[1;33m:\u001b[0m\u001b[1;33m\u001b[0m\u001b[1;33m\u001b[0m\u001b[0m\n\u001b[0;32m    221\u001b[0m             \u001b[0mrun\u001b[0m\u001b[1;33m.\u001b[0m\u001b[0mset_tags\u001b[0m\u001b[1;33m(\u001b[0m\u001b[0mtags\u001b[0m\u001b[1;33m)\u001b[0m\u001b[1;33m\u001b[0m\u001b[1;33m\u001b[0m\u001b[0m\n",
      "\u001b[1;32m~\\.conda\\envs\\devintrods\\lib\\site-packages\\azureml\\train\\automl\\automlconfig.py\u001b[0m in \u001b[0;36m_automl_static_submit\u001b[1;34m(automl_config_object, workspace, experiment_name, **kwargs)\u001b[0m\n\u001b[0;32m     97\u001b[0m         \u001b[0mcompute_target\u001b[0m\u001b[1;33m,\u001b[0m\u001b[1;33m\u001b[0m\u001b[1;33m\u001b[0m\u001b[0m\n\u001b[0;32m     98\u001b[0m         \u001b[0mparent_run_id\u001b[0m\u001b[1;33m,\u001b[0m\u001b[1;33m\u001b[0m\u001b[1;33m\u001b[0m\u001b[0m\n\u001b[1;32m---&gt; 99\u001b[1;33m         show_output)\n\u001b[0m\u001b[0;32m    100\u001b[0m \u001b[1;33m\u001b[0m\u001b[0m\n\u001b[0;32m    101\u001b[0m     \u001b[0mautoml_run\u001b[0m\u001b[1;33m.\u001b[0m\u001b[0madd_properties\u001b[0m\u001b[1;33m(\u001b[0m\u001b[0mglobal_tracking_info_registry\u001b[0m\u001b[1;33m.\u001b[0m\u001b[0mgather_all\u001b[0m\u001b[1;33m(\u001b[0m\u001b[0msettings\u001b[0m\u001b[1;33m.\u001b[0m\u001b[0mpath\u001b[0m\u001b[1;33m)\u001b[0m\u001b[1;33m)\u001b[0m\u001b[1;33m\u001b[0m\u001b[1;33m\u001b[0m\u001b[0m\n",
      "\u001b[1;32m~\\.conda\\envs\\devintrods\\lib\\site-packages\\azureml\\train\\automl\\automlconfig.py\u001b[0m in \u001b[0;36m_start_execution\u001b[1;34m(experiment, settings_obj, fit_params, run_config, compute_target, parent_run_id, show_output)\u001b[0m\n\u001b[0;32m    245\u001b[0m         \u001b[0mlogger\u001b[0m\u001b[1;33m.\u001b[0m\u001b[0minfo\u001b[0m\u001b[1;33m(\u001b[0m\u001b[1;34m&quot;Submitting remote.&quot;\u001b[0m\u001b[1;33m)\u001b[0m\u001b[1;33m\u001b[0m\u001b[1;33m\u001b[0m\u001b[0m\n\u001b[0;32m    246\u001b[0m         \u001b[0mprint\u001b[0m\u001b[1;33m(\u001b[0m\u001b[1;34m&quot;Running on remote.&quot;\u001b[0m\u001b[1;33m)\u001b[0m\u001b[1;33m\u001b[0m\u001b[1;33m\u001b[0m\u001b[0m\n\u001b[1;32m--&gt; 247\u001b[1;33m         \u001b[0mvalidate_non_prod_env_exists\u001b[0m\u001b[1;33m(\u001b[0m\u001b[0mexperiment\u001b[0m\u001b[1;33m.\u001b[0m\u001b[0mworkspace\u001b[0m\u001b[1;33m)\u001b[0m\u001b[1;33m\u001b[0m\u001b[1;33m\u001b[0m\u001b[0m\n\u001b[0m\u001b[0;32m    248\u001b[0m         \u001b[0mautoml_run\u001b[0m \u001b[1;33m=\u001b[0m \u001b[0m_default_execution\u001b[0m\u001b[1;33m(\u001b[0m\u001b[0mexperiment\u001b[0m\u001b[1;33m,\u001b[0m \u001b[0msettings_obj\u001b[0m\u001b[1;33m,\u001b[0m \u001b[0mfit_params\u001b[0m\u001b[1;33m,\u001b[0m \u001b[1;32mFalse\u001b[0m\u001b[1;33m,\u001b[0m \u001b[0mshow_output\u001b[0m\u001b[1;33m)\u001b[0m\u001b[1;33m\u001b[0m\u001b[1;33m\u001b[0m\u001b[0m\n\u001b[0;32m    249\u001b[0m \u001b[1;33m\u001b[0m\u001b[0m\n",
      "\u001b[1;32m~\\.conda\\envs\\devintrods\\lib\\site-packages\\azureml\\train\\automl\\_environment_utilities.py\u001b[0m in \u001b[0;36mvalidate_non_prod_env_exists\u001b[1;34m(ws)\u001b[0m\n\u001b[0;32m    288\u001b[0m     \u001b[1;32mfor\u001b[0m \u001b[0menv_name\u001b[0m \u001b[1;32min\u001b[0m \u001b[0mNON_PROD_ENVIRONMENTS\u001b[0m\u001b[1;33m:\u001b[0m\u001b[1;33m\u001b[0m\u001b[1;33m\u001b[0m\u001b[0m\n\u001b[0;32m    289\u001b[0m         \u001b[1;32mtry\u001b[0m\u001b[1;33m:\u001b[0m\u001b[1;33m\u001b[0m\u001b[1;33m\u001b[0m\u001b[0m\n\u001b[1;32m--&gt; 290\u001b[1;33m             \u001b[0menv\u001b[0m \u001b[1;33m=\u001b[0m \u001b[0mEnvironment\u001b[0m\u001b[1;33m.\u001b[0m\u001b[0mget\u001b[0m\u001b[1;33m(\u001b[0m\u001b[0mws\u001b[0m\u001b[1;33m,\u001b[0m \u001b[0mNON_PROD_ENVIRONMENTS\u001b[0m\u001b[1;33m[\u001b[0m\u001b[0menv_name\u001b[0m\u001b[1;33m]\u001b[0m\u001b[1;33m)\u001b[0m\u001b[1;33m\u001b[0m\u001b[1;33m\u001b[0m\u001b[0m\n\u001b[0m\u001b[0;32m    291\u001b[0m             \u001b[1;32mif\u001b[0m \u001b[1;32mnot\u001b[0m \u001b[0many\u001b[0m\u001b[1;33m(\u001b[0m\u001b[1;33m[\u001b[0m\u001b[0mazureml\u001b[0m\u001b[1;33m.\u001b[0m\u001b[0mtrain\u001b[0m\u001b[1;33m.\u001b[0m\u001b[0mautoml\u001b[0m\u001b[1;33m.\u001b[0m\u001b[0mVERSION\u001b[0m \u001b[1;32min\u001b[0m \u001b[0mx\u001b[0m \u001b[1;32mfor\u001b[0m \u001b[0mx\u001b[0m \u001b[1;32min\u001b[0m \u001b[0menv\u001b[0m\u001b[1;33m.\u001b[0m\u001b[0mpython\u001b[0m\u001b[1;33m.\u001b[0m\u001b[0mconda_dependencies\u001b[0m\u001b[1;33m.\u001b[0m\u001b[0mpip_packages\u001b[0m\u001b[1;33m]\u001b[0m\u001b[1;33m)\u001b[0m\u001b[1;33m:\u001b[0m\u001b[1;33m\u001b[0m\u001b[1;33m\u001b[0m\u001b[0m\n\u001b[0;32m    292\u001b[0m                 \u001b[0mlogger\u001b[0m\u001b[1;33m.\u001b[0m\u001b[0mwarning\u001b[0m\u001b[1;33m(\u001b[0m\u001b[0mNON_PROD_MISMATCH_WARNING\u001b[0m\u001b[1;33m.\u001b[0m\u001b[0mformat\u001b[0m\u001b[1;33m(\u001b[0m\u001b[0mazureml\u001b[0m\u001b[1;33m.\u001b[0m\u001b[0mautoml\u001b[0m\u001b[1;33m.\u001b[0m\u001b[0mcore\u001b[0m\u001b[1;33m.\u001b[0m\u001b[0mVERSION\u001b[0m\u001b[1;33m,\u001b[0m \u001b[0menv\u001b[0m\u001b[1;33m)\u001b[0m\u001b[1;33m)\u001b[0m\u001b[1;33m\u001b[0m\u001b[1;33m\u001b[0m\u001b[0m\n",
      "\u001b[1;32m~\\.conda\\envs\\devintrods\\lib\\site-packages\\azureml\\core\\environment.py\u001b[0m in \u001b[0;36mget\u001b[1;34m(workspace, name, version)\u001b[0m\n\u001b[0;32m    840\u001b[0m         &quot;&quot;&quot;\n\u001b[0;32m    841\u001b[0m         \u001b[0menvironment_client\u001b[0m \u001b[1;33m=\u001b[0m \u001b[0mEnvironmentClient\u001b[0m\u001b[1;33m(\u001b[0m\u001b[0mworkspace\u001b[0m\u001b[1;33m.\u001b[0m\u001b[0mservice_context\u001b[0m\u001b[1;33m)\u001b[0m\u001b[1;33m\u001b[0m\u001b[1;33m\u001b[0m\u001b[0m\n\u001b[1;32m--&gt; 842\u001b[1;33m         \u001b[0menvironment_dict\u001b[0m \u001b[1;33m=\u001b[0m \u001b[0menvironment_client\u001b[0m\u001b[1;33m.\u001b[0m\u001b[0m_get_environment_definition\u001b[0m\u001b[1;33m(\u001b[0m\u001b[0mname\u001b[0m\u001b[1;33m=\u001b[0m\u001b[0mname\u001b[0m\u001b[1;33m,\u001b[0m \u001b[0mversion\u001b[0m\u001b[1;33m=\u001b[0m\u001b[0mversion\u001b[0m\u001b[1;33m)\u001b[0m\u001b[1;33m\u001b[0m\u001b[1;33m\u001b[0m\u001b[0m\n\u001b[0m\u001b[0;32m    843\u001b[0m         \u001b[0menv\u001b[0m \u001b[1;33m=\u001b[0m \u001b[0mEnvironment\u001b[0m\u001b[1;33m.\u001b[0m\u001b[0m_deserialize_and_add_to_object\u001b[0m\u001b[1;33m(\u001b[0m\u001b[0menvironment_dict\u001b[0m\u001b[1;33m)\u001b[0m\u001b[1;33m\u001b[0m\u001b[1;33m\u001b[0m\u001b[0m\n\u001b[0;32m    844\u001b[0m \u001b[1;33m\u001b[0m\u001b[0m\n",
      "\u001b[1;32m~\\.conda\\envs\\devintrods\\lib\\site-packages\\azureml\\_restclient\\environment_client.py\u001b[0m in \u001b[0;36m_get_environment_definition\u001b[1;34m(self, name, version)\u001b[0m\n\u001b[0;32m     44\u001b[0m             message = &quot;Error retrieving the environment definition. Code: {}\\n: {}&quot;.format(response.status_code,\n\u001b[0;32m     45\u001b[0m                                                                                            response.text)\n\u001b[1;32m---&gt; 46\u001b[1;33m             \u001b[1;32mraise\u001b[0m \u001b[0mException\u001b[0m\u001b[1;33m(\u001b[0m\u001b[0mmessage\u001b[0m\u001b[1;33m)\u001b[0m\u001b[1;33m\u001b[0m\u001b[1;33m\u001b[0m\u001b[0m\n\u001b[0m\u001b[0;32m     47\u001b[0m \u001b[1;33m\u001b[0m\u001b[0m\n\u001b[0;32m     48\u001b[0m     \u001b[1;32mdef\u001b[0m \u001b[0m_register_environment_definition\u001b[0m\u001b[1;33m(\u001b[0m\u001b[0mself\u001b[0m\u001b[1;33m,\u001b[0m \u001b[0menvironment_dict\u001b[0m\u001b[1;33m)\u001b[0m\u001b[1;33m:\u001b[0m\u001b[1;33m\u001b[0m\u001b[1;33m\u001b[0m\u001b[0m\n",
      "\u001b[1;31mException\u001b[0m: Error retrieving the environment definition. Code: 404\n: {\n  &quot;error&quot;: {\n    &quot;code&quot;: &quot;UserError&quot;,\n    &quot;severity&quot;: null,\n    &quot;message&quot;: &quot;No definitions exist for environment AutoML-Non-Prod&quot;,\n    &quot;messageFormat&quot;: null,\n    &quot;messageParameters&quot;: null,\n    &quot;referenceCode&quot;: null,\n    &quot;detailsUri&quot;: null,\n    &quot;target&quot;: null,\n    &quot;details&quot;: [],\n    &quot;innerError&quot;: {\n      &quot;code&quot;: &quot;NotFoundError&quot;,\n      &quot;innerError&quot;: null\n    },\n    &quot;debugInfo&quot;: null\n  },\n  &quot;correlation&quot;: {\n    &quot;operation&quot;: &quot;48d1d4dcd67583419722c015f0288174&quot;,\n    &quot;request&quot;: &quot;3666508cd297504c&quot;\n  },\n  &quot;environment&quot;: &quot;eastus&quot;,\n  &quot;location&quot;: &quot;eastus&quot;,\n  &quot;time&quot;: &quot;2020-10-01T15:36:58.9859011+00:00&quot;,\n  &quot;componentName&quot;: &quot;environment-management&quot;\n}"
     ]
    }
   ],
   "source": [
    "remote_run = experiment.submit(automl_config,show_output=False)"
   ]
  },
  {
   "cell_type": "code",
   "execution_count": null,
   "metadata": {},
   "outputs": [],
   "source": []
  }
 ]
}